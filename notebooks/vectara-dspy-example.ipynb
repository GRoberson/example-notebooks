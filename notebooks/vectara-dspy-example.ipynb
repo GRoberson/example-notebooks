{
 "cells": [
  {
   "cell_type": "code",
   "execution_count": null,
   "id": "b4a05532",
   "metadata": {},
   "outputs": [],
   "source": [
    "import os\n",
    "\n",
    "# replace the below with your own Vectara Customer ID, Corpus ID and API Key\n",
    "# In this example we point to the Corpus powering the Vectara AskFeynman demo: askfeynman.demo.vectara.com\n",
    "vectara_corpus_id = os.environ['VECTARA_CORPUS_ID']\n",
    "vectara_customer_id = os.environ['VECTARA_CUSTOMER_ID']\n",
    "vectara_api_key = os.environ['VECTARA_API_KEY']"
   ]
  },
  {
   "cell_type": "code",
   "execution_count": 2,
   "id": "78b99f97-646e-4409-962f-26e6c85fe5b5",
   "metadata": {},
   "outputs": [],
   "source": [
    "import dspy\n",
    "from dspy.retrieve.vectara_rm import VectaraRM"
   ]
  },
  {
   "cell_type": "code",
   "execution_count": 3,
   "id": "f350dca5-6b2a-4f08-a0bc-5314d4aaa630",
   "metadata": {},
   "outputs": [],
   "source": [
    "# Make sure to include your OPENAI key in the environment variable OPENAI_API_KEY\n",
    "\n",
    "llm = dspy.OpenAI(model=\"gpt-3.5-turbo\")\n",
    "retriever_model = VectaraRM()\n",
    "dspy.settings.configure(lm=llm, rm=retriever_model)"
   ]
  },
  {
   "cell_type": "code",
   "execution_count": 4,
   "id": "d42ace80-847e-463f-9f8f-1dea729da140",
   "metadata": {},
   "outputs": [
    {
     "name": "stdout",
     "output_type": "stream",
     "text": [
      "Top 5 passages for question: What is quantum mechanics? \n",
      " \n",
      "\n",
      "1] Here is one equation which\n",
      "is different. In classical physics\n",
      "xpx−pxx=0. What is it in quantum mechanics? ˆxˆpx−ˆpxˆx=?\n",
      "Let’s work it out in the x-representation. So that we’ll know what\n",
      "we are doing we put in some wave function ψ(x). \n",
      "\n",
      "2] (3.6), all you need to know to\n",
      "continue the analysis is two numbers—in this particular case\n",
      "⟨1|s⟩ and ⟨2|s⟩. These two complex numbers are\n",
      "enough to predict all the future. That is what really makes quantum\n",
      "mechanics easy. It turns out that in later chapters we are going to do\n",
      "just such a thing when we specify a starting condition in terms of two\n",
      "(or a few) numbers. Of course, these numbers depend upon where the\n",
      "source is located and possibly other details about the apparatus, but\n",
      "given the two numbers, we do not need to know any more about such\n",
      "details. \n",
      "\n",
      "3] And if by having things in the way, we don’t\n",
      "let it look, that we will get an analog of diffraction? The miracle of\n",
      "it all is, of course, that it does just that. That’s what the laws of\n",
      "quantum mechanics say. So our principle of least action is\n",
      "incompletely stated. It isn’t that a particle takes the path of least\n",
      "action but that it smells all the paths in the neighborhood and\n",
      "chooses the one that has the least action by a method analogous to the\n",
      "one by which light chose the shortest time. \n",
      "\n",
      "4] Classically, of\n",
      "course, μz would change continuously, but in quantum mechanics the\n",
      "z-component of the magnetic moment cannot adjust continuously. It must\n",
      "jump suddenly from one value to another. We have made the comparison\n",
      "between the consequences of classical mechanics and quantum mechanics to\n",
      "give you some clue as to what might happen classically and how it is\n",
      "related to what actually happens in quantum mechanics. You will notice,\n",
      "incidentally, that the expected resonant frequency is the same in both\n",
      "cases. The angle of precession of an atomic magnet can be changed by a\n",
      "horizontal magnetic field always at right angles to μ, as in (a),\n",
      "or by an oscillating field, as in (b). \n",
      "\n",
      "5] You may try, if you want, to understand how a classical vector is\n",
      "equal to a matrix [math], and maybe you will discover\n",
      "something—but don’t break your head on it. That’s not the\n",
      "idea—they are not equal. Quantum mechanics is a different\n",
      "kind of a theory to represent the world. It just happens that there\n",
      "are certain correspondences which are hardly more than mnemonic\n",
      "devices—things to remember with. That is, you remember\n",
      "Eq. \n",
      "\n"
     ]
    }
   ],
   "source": [
    "retrieve = dspy.Retrieve(k=5)\n",
    "question = \"What is quantum mechanics?\"\n",
    "topK_passages = retrieve(question).passages\n",
    "print(f\"Top {retrieve.k} passages for question: {question} \\n\", \"\\n\")\n",
    "\n",
    "for idx, passage in enumerate(topK_passages):\n",
    "    print(f\"{idx+1}]\", passage, \"\\n\")"
   ]
  },
  {
   "cell_type": "code",
   "execution_count": 5,
   "id": "2b71df86-9fbe-4713-b2f9-95690d85aec4",
   "metadata": {},
   "outputs": [],
   "source": [
    "class RAG(dspy.Module):\n",
    "    def __init__(self, num_passages=5):\n",
    "        super().__init__()\n",
    "        self.retrieve = dspy.Retrieve(k=num_passages)\n",
    "        self.generate_answer = dspy.ChainOfThought(\"context, question -> answer\")\n",
    "    \n",
    "    def forward(self, question):\n",
    "        context = self.retrieve(question).passages\n",
    "        prediction = self.generate_answer(context=context, question=question)\n",
    "        return dspy.Prediction(context=context, answer=prediction.answer)"
   ]
  },
  {
   "cell_type": "code",
   "execution_count": 6,
   "id": "94151e4b-8f73-4841-ba50-8b8457b1b64b",
   "metadata": {},
   "outputs": [
    {
     "data": {
      "text/plain": [
       "'Light exhibits properties of both waves and particles. Initially, it was believed to behave solely as a wave, as described by Newton. However, further experiments and observations revealed that light can also behave like a particle. This duality is known as wave-particle duality. So, the answer to the question is that light is both a wave and a particle.'"
      ]
     },
     "execution_count": 6,
     "metadata": {},
     "output_type": "execute_result"
    }
   ],
   "source": [
    "rag = RAG()\n",
    "q1 = \"is light a wave or particle?\"\n",
    "rag(q1).answer"
   ]
  },
  {
   "cell_type": "code",
   "execution_count": 7,
   "id": "20d265b9-6ccc-4ce3-8b10-c623d83dc437",
   "metadata": {},
   "outputs": [
    {
     "data": {
      "text/plain": [
       "\"Quantum mechanics is a theory that describes the behavior of particles at the microscopic level. It is different from classical physics and introduces the concept of wave functions, which represent the probability distribution of a particle's properties. In quantum mechanics, particles can exist in multiple states simultaneously and can exhibit wave-particle duality. The theory also includes principles such as superposition, entanglement, and uncertainty.\""
      ]
     },
     "execution_count": 7,
     "metadata": {},
     "output_type": "execute_result"
    }
   ],
   "source": [
    "rag = RAG()\n",
    "q2 = \"What is quantum mechanics?\"\n",
    "rag(q2).answer"
   ]
  }
 ],
 "metadata": {
  "kernelspec": {
   "display_name": "Python 3 (ipykernel)",
   "language": "python",
   "name": "python3"
  },
  "language_info": {
   "codemirror_mode": {
    "name": "ipython",
    "version": 3
   },
   "file_extension": ".py",
   "mimetype": "text/x-python",
   "name": "python",
   "nbconvert_exporter": "python",
   "pygments_lexer": "ipython3",
   "version": "3.10.9"
  }
 },
 "nbformat": 4,
 "nbformat_minor": 5
}
