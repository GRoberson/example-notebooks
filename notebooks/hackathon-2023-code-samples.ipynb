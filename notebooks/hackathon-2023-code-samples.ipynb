{
 "cells": [
  {
   "cell_type": "markdown",
   "id": "57210cd0",
   "metadata": {},
   "source": [
    "[![Open In Colab](https://colab.research.google.com/assets/colab-badge.svg)](https://colab.research.google.com/github/vectara/example-notebooks/blob/main/notebooks/hackathon-2023-code-samples.ipynb)"
   ]
  },
  {
   "cell_type": "markdown",
   "id": "2684ffc5",
   "metadata": {},
   "source": [
    "# RAG hackathon - sample code\n",
    "\n",
    "In this notebook we share some of the code for the RAG hackathon tutorial.<br>\n",
    "It is not meant to be run top to bottom as some of the code is \"demonstrative\"."
   ]
  },
  {
   "cell_type": "markdown",
   "id": "bf052eb6",
   "metadata": {},
   "source": [
    "## Indexing text into Vectara\n",
    "\n",
    "This code snippet shows how to create a dictionary for the document object, including documentId, title, metadataJson and the section array which includes the text. Then we use `requests` to send a HTTP POST request for the indexing operation\n"
   ]
  },
  {
   "cell_type": "code",
   "execution_count": null,
   "id": "552855fd",
   "metadata": {},
   "outputs": [],
   "source": [
    "api_endpoint = \"https://api.vectara.io/v1/index\"\n",
    "document = {\n",
    "  \"documentId\": doc_id,\n",
    "  \"title\": doc_title,\n",
    "  \"metadataJson\": json.dumps(metadata_dict),\n",
    "  \"section\": [\n",
    "    {'text': \"some initial text\", \"title\": \"title of first part\"},\n",
    "    {'text': \"some other text\", \"title\": \"title of 2nd part\"}\n",
    "  ]\n",
    "}\n",
    "request = {\n",
    "  \"customer_id\": \"<YOUR-CUSTOMER-ID>\",\n",
    "  \"corpus_id\": \"<YOUR-CORPUS-ID>\",\n",
    "  \"document\": document\n",
    "}\n",
    "post_headers = {\n",
    "  \"x-api-key\": \"<YOUR-API-KEY>\",\n",
    "  \"customer_id\": \"<YOUR-CUSTOMER-ID>\"\n",
    "}\n",
    "response = requests.post(api_endpoint, data=json.dumps(reqeust), verify=True, headers=post_headers)\n"
   ]
  },
  {
   "cell_type": "markdown",
   "id": "d7c8c8ae",
   "metadata": {},
   "source": [
    "## Using JWT token instead of API-key\n",
    "\n",
    "If you'd like to use a JWT token instead of the api-key, just replace the post-headers as follows:"
   ]
  },
  {
   "cell_type": "code",
   "execution_count": null,
   "id": "906d1d79",
   "metadata": {},
   "outputs": [],
   "source": [
    "post_headers = {\n",
    "  \"Authorization\": f\"Bearer {jwt_token}\",\n",
    "  \"customer_id\": \"<YOUR-CUSTOMER-ID>\"\n",
    "}\n",
    "response = requests.post(api_endpoint, data=json.dumps(reqeust), verify=True, headers=post_headers)\n"
   ]
  },
  {
   "cell_type": "markdown",
   "id": "26ed08d9",
   "metadata": {},
   "source": [
    "## File Upload API call\n",
    "\n",
    "Vectara also supports a method to directly upload a file via the API, including support for various file types like DOC/DOCX, PPT/PPTX, PDF, HTML, JSON and many others."
   ]
  },
  {
   "cell_type": "code",
   "execution_count": null,
   "id": "c5a77fe1",
   "metadata": {},
   "outputs": [],
   "source": [
    "customer_id = \"<YOUR-CUSTOMER-ID>\"\n",
    "corpus_id = \"<YOUR-CORPUS-ID>\"\n",
    "api_key = \"<YOUR-API-KEY>\"\n",
    "url = f\"https://api.vectara.io/v1/upload?c={customer_id}&o={corpus_id}\"\n",
    "\n",
    "post_headers = { \n",
    "    \"x-api-key\": api_key,\n",
    "    \"customer-id\": customer_id\n",
    "}\n",
    "files: Any = {\n",
    "    \"file\": (filename, open(filename, 'rb')),\n",
    "    \"doc_metadata\": (None, json.dumps(doc_metadata)),\n",
    "}  \n",
    "response = requests.post(url, files=files, verify=True, headers=post_headers)"
   ]
  },
  {
   "cell_type": "markdown",
   "id": "406c12ea",
   "metadata": {},
   "source": [
    "## Query\n",
    "\n",
    "This code sample in Javascript demonstrates a call to Vectara's query API.\n",
    "This includes the optional `summary` array which, if exists, defines a generative summary request parameters."
   ]
  },
  {
   "cell_type": "code",
   "execution_count": null,
   "id": "6a472563",
   "metadata": {},
   "outputs": [],
   "source": [
    "const customer_id = \"<YOUR-CUSTOMER-ID>\"\n",
    "const corpus_id = \"<YOUR-CORPUS-ID>\"\n",
    "const api_key = \"<YOUR-API-KEY>\"\n",
    "\n",
    "const query_body = {\n",
    "    query: [\n",
    "        {\n",
    "            query: query_str,\n",
    "            start: 0,\n",
    "            numResults: 10,\n",
    "            corpusKey: [{\n",
    "                customerId: customer_id, \n",
    "                corpusId: corpus_id, \n",
    "                lexicalInterpolationConfig: {lambda: 0.025}\n",
    "            }],\n",
    "            contextConfig: {\n",
    "                sentencesBefore: 3,\n",
    "                sentencesAfter: 3,\n",
    "                startTag: \"%START_TAG%\",\n",
    "                endTag: \"%END_TAG%\"\n",
    "            },\n",
    "            summary: [\n",
    "                {\n",
    "                    responseLang: \"eng\",\n",
    "                    maxSummarizedResults: 7,\n",
    "                    summarizerPromptName: \"vectara-summarizer-ext-v1.3.0\"\n",
    "                }\n",
    "            ]\n",
    "        }\n",
    "    ]\n",
    "}\n",
    "const url = \"https://api.vectara.io/v1/query\";\n",
    "const post_headers = {\n",
    "    \"headers\": {\n",
    "        \"Content-type\": \"application/json\",\n",
    "        \"Accept\": \"application/json\",\n",
    "        \"customer-id\": customer_id,\n",
    "        \"x-api-key\": api_key \n",
    "    }\n",
    "};\n",
    "const result = await axios.post(url, body, post_headers)"
   ]
  },
  {
   "cell_type": "markdown",
   "id": "08d5ef8b",
   "metadata": {},
   "source": [
    "## Using LlamaIndex chat query engine with Vectara\n",
    "\n",
    "This example shows how to create a chat flow using Vectara and LlamaIndex."
   ]
  },
  {
   "cell_type": "code",
   "execution_count": 1,
   "id": "0a8d0a32",
   "metadata": {
    "scrolled": false
   },
   "outputs": [
    {
     "name": "stdout",
     "output_type": "stream",
     "text": [
      "YC stands for Y Combinator. It is a startup accelerator and venture capital firm based in Silicon Valley, California. Y Combinator provides seed funding, mentorship, and resources to early-stage startups. It is known for its highly competitive application process and has helped launch successful companies such as Airbnb, Dropbox, Reddit, and Stripe. Y Combinator also runs a three-month program where selected startups receive funding and guidance to develop their products and business models.\n",
      "Y Combinator was started by Paul Graham, Robert Morris, Trevor Blackwell, and Jessica Livingston in March 2005. Paul Graham is a computer scientist, entrepreneur, and writer who is known for his work on programming languages and his influential essays on startups and technology. Robert Morris is a computer scientist and entrepreneur who co-authored the Morris Worm, one of the first computer worms to spread across the internet. Trevor Blackwell is a computer scientist and entrepreneur who has worked on robotics and machine learning. Jessica Livingston is a writer and co-founder of Y Combinator who has written extensively about startups and entrepreneurship. Together, they founded Y Combinator with the goal of providing support and funding to early-stage startups.\n"
     ]
    }
   ],
   "source": [
    "from llama_index import SimpleDirectoryReader\n",
    "from llama_index.indices import VectaraIndex\n",
    "\n",
    "documents = SimpleDirectoryReader(\"../data/paul_graham\").load_data()\n",
    "index = VectaraIndex.from_documents(documents)\n",
    "\n",
    "chat_engine = index.as_chat_engine(similarity_top_k=10)\n",
    "response = chat_engine.chat(\"what is YC?\")\n",
    "print(response)\n",
    "response = chat_engine.chat(\"who started it?\")\n",
    "print(response)"
   ]
  },
  {
   "cell_type": "code",
   "execution_count": null,
   "id": "7ac5f94d",
   "metadata": {},
   "outputs": [],
   "source": []
  }
 ],
 "metadata": {
  "kernelspec": {
   "display_name": "Python 3 (ipykernel)",
   "language": "python",
   "name": "python3"
  },
  "language_info": {
   "codemirror_mode": {
    "name": "ipython",
    "version": 3
   },
   "file_extension": ".py",
   "mimetype": "text/x-python",
   "name": "python",
   "nbconvert_exporter": "python",
   "pygments_lexer": "ipython3",
   "version": "3.10.9"
  }
 },
 "nbformat": 4,
 "nbformat_minor": 5
}
