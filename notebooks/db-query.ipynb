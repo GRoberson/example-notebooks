{
 "cells": [
  {
   "cell_type": "markdown",
   "id": "73108e26",
   "metadata": {},
   "source": [
    "[![Open In Colab](https://colab.research.google.com/assets/colab-badge.svg)](https://github.com/vectara/example-notebooks/blob/main/notebooks/db-query.ipynb)"
   ]
  },
  {
   "cell_type": "code",
   "execution_count": null,
   "id": "43c8ae10",
   "metadata": {},
   "outputs": [],
   "source": [
    "import os\n",
    "import json\n",
    "import requests\n",
    "import re"
   ]
  },
  {
   "cell_type": "code",
   "execution_count": 2,
   "id": "e3409e3e",
   "metadata": {},
   "outputs": [],
   "source": [
    "vectara_corpus_id = os.environ['VECTARA_CORPUS_ID']\n",
    "vectara_customer_id = os.environ['VECTARA_CUSTOMER_ID']\n",
    "vectara_api_key = os.environ['VECTARA_API_KEY']\n",
    "\n",
    "def get_post_headers() -> dict:\n",
    "    \"\"\"Returns headers that should be attached to each post request.\"\"\"\n",
    "    return {\n",
    "        \"x-api-key\": vectara_api_key,\n",
    "        \"customer-id\": vectara_customer_id,\n",
    "        \"Content-Type\": \"application/json\",\n",
    "    }\n",
    "\n",
    "def query(query: str, **kwargs) -> str:\n",
    "\n",
    "    filter_str = kwargs.get(\"filter_str\", \"\")\n",
    "    lambda_val = kwargs.get(\"lambda_val\", 0.0)\n",
    "    \n",
    "    corpus_key = {\n",
    "        \"customerId\": vectara_customer_id,\n",
    "        \"corpusId\": vectara_corpus_id,\n",
    "        \"lexicalInterpolationConfig\": {\"lambda\": lambda_val},\n",
    "    }\n",
    "    if len(filter_str) > 0:\n",
    "        corpus_key[\"metadataFilter\"] = filter_str\n",
    "\n",
    "    data = {\n",
    "        \"query\": [\n",
    "            {\n",
    "                \"query\": query,\n",
    "                \"start\": 0,\n",
    "                \"numResults\": 10,\n",
    "                \"contextConfig\": {\n",
    "                    \"sentencesBefore\": 2,\n",
    "                    \"sentencesAfter\": 2\n",
    "                },\n",
    "                \"corpusKey\": [corpus_key],\n",
    "                \"summary\": [\n",
    "                    {\n",
    "                        \"responseLang\": \"eng\",\n",
    "                        \"maxSummarizedResults\": 5,\n",
    "                        \"summarizerPromptName\": \"vectara-summary-ext-v1.2.0\"\n",
    "                    },\n",
    "                ]                    \n",
    "            }\n",
    "        ]\n",
    "    }\n",
    "\n",
    "    response = requests.post(\n",
    "        headers=get_post_headers(),\n",
    "        url=\"https://api.vectara.io/v1/query\",\n",
    "        data=json.dumps(data),\n",
    "        timeout=30,\n",
    "    )\n",
    "\n",
    "    if response.status_code != 200:\n",
    "        _logger.error(\n",
    "            \"Query failed %s\",\n",
    "            f\"(code {response.status_code}, reason {response.reason}, details \"\n",
    "            f\"{response.text})\",\n",
    "        )\n",
    "        return []\n",
    "\n",
    "    result = response.json()\n",
    "\n",
    "    answer = result[\"responseSet\"][0][\"summary\"][0][\"text\"]\n",
    "    return re.sub(r'\\[\\d+(,\\d+){0,5}\\]', '', answer)"
   ]
  },
  {
   "cell_type": "code",
   "execution_count": 3,
   "id": "24354f4a",
   "metadata": {
    "scrolled": false
   },
   "outputs": [
    {
     "data": {
      "text/plain": [
       "\"The best museum for kids in Barcelona is the science museum, according to a visitor's recommendation . It is described as the highlight of their trip for their 6 and 8-year-old children. Additionally, there are other museums worth visiting, such as the Picasso museum and the MACBA . These museums provide excellent experiences for children and families. The Recinte Modernista St Pau is also nearby and highly recommended . Barcelona offers various parks and playgrounds for kids, including one near the beach . Overall, Barcelona provides a range of options for kids to have fun and learn through interactive exhibits and outdoor activities.\""
      ]
     },
     "execution_count": 3,
     "metadata": {},
     "output_type": "execute_result"
    }
   ],
   "source": [
    "query(\"What is the best museum for kids?\")"
   ]
  },
  {
   "cell_type": "code",
   "execution_count": 4,
   "id": "97576a4b",
   "metadata": {},
   "outputs": [
    {
     "data": {
      "text/plain": [
       "'The Gracia neighborhood in Barcelona has been recommended as having the best tapas places . Several search results mentioned the presence of great tapas restaurants in the area . It is described as a wonderful neighborhood with easy access to attractions like Sagrada Familia and Parc Guell . The neighborhood is also known for its safety and quietness . The Estrella market nearby offers fresh produce and traditional Catalan food . Overall, Gracia seems to be a highly recommended neighborhood for experiencing the best tapas in Barcelona.'"
      ]
     },
     "execution_count": 4,
     "metadata": {},
     "output_type": "execute_result"
    }
   ],
   "source": [
    "query(\"Which neighborhood has the best Tapas places?\")"
   ]
  },
  {
   "cell_type": "code",
   "execution_count": 5,
   "id": "1826f3ab",
   "metadata": {},
   "outputs": [
    {
     "data": {
      "text/plain": [
       "'Night clubs can be found in various locations. One search result mentioned a night club called Club Pipos, located below an apartment, which can be noisy until 5 AM . Another result mentioned a night club near a certain apartment, where noise from lively visitors can be heard until 1-2 AM . Additionally, one search result mentioned a night club named APOLLO, causing potential noise issues until late hours . However, another search result stated that the nightclub across an apartment is only open on Thursdays, Fridays, and Saturdays from midnight to 5:30 AM, with no music heard, but some noise from people coming and going . It is important to note that preferences for noise levels may vary, and it is advisable to consider these factors when choosing a location to visit night clubs.'"
      ]
     },
     "execution_count": 5,
     "metadata": {},
     "output_type": "execute_result"
    }
   ],
   "source": [
    "query(\"Where can I find night clubs?\")"
   ]
  },
  {
   "cell_type": "code",
   "execution_count": 6,
   "id": "b0bab45e",
   "metadata": {},
   "outputs": [
    {
     "data": {
      "text/plain": [
       "'Based on the search results, there are several places where you can find night clubs in Barcelona. One search result mentioned a night club located just two minutes away from a specific location . Another result mentioned a nightclub situated right across an apartment . However, it is worth noting that staying in these areas may result in some noise during the night due to the presence of nightclubs  . Additionally, some search results mentioned that the Eixample district is known for its shops, restaurants, tapas bars, and nightclubs . Overall, it seems that there are various options for finding nightclubs in Barcelona, with some areas being more lively than others.'"
      ]
     },
     "execution_count": 6,
     "metadata": {},
     "output_type": "execute_result"
    }
   ],
   "source": [
    "query(\"Where can I find night clubs?\", \n",
    "      filter_str=\"doc.date < '2020-01-01'\")"
   ]
  },
  {
   "cell_type": "code",
   "execution_count": null,
   "id": "0a8808d0",
   "metadata": {},
   "outputs": [],
   "source": []
  }
 ],
 "metadata": {
  "kernelspec": {
   "display_name": "Python 3 (ipykernel)",
   "language": "python",
   "name": "python3"
  },
  "language_info": {
   "codemirror_mode": {
    "name": "ipython",
    "version": 3
   },
   "file_extension": ".py",
   "mimetype": "text/x-python",
   "name": "python",
   "nbconvert_exporter": "python",
   "pygments_lexer": "ipython3",
   "version": "3.10.9"
  }
 },
 "nbformat": 4,
 "nbformat_minor": 5
}
