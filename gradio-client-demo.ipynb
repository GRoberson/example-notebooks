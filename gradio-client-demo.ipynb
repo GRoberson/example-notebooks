{
 "cells": [
  {
   "cell_type": "markdown",
   "id": "a4ab55d8-e7cd-4b84-a04f-596105874cbc",
   "metadata": {},
   "source": [
    "# HHEM demo with Gradio-client\n",
    "\n",
    "The [Gradio Python client](https://www.gradio.app/guides/getting-started-with-the-python-client) makes it very easy to use any Gradio app as an API.\n",
    "In this notebook we demonstrate how to use HHEM - [Vectara](https://vectara.com)'s [Hallucination Evaluation Model](https://huggingface.co/vectara/hallucination_evaluation_model) - with the gradio python client.\n"
   ]
  },
  {
   "cell_type": "code",
   "execution_count": 1,
   "id": "9868bb34-0c60-4370-821d-515c0309a07a",
   "metadata": {},
   "outputs": [],
   "source": [
    "from gradio_client import Client\n",
    "import os"
   ]
  },
  {
   "cell_type": "code",
   "execution_count": 2,
   "id": "e9252e41-3e4c-4cb7-a284-3106fb86c5cd",
   "metadata": {},
   "outputs": [
    {
     "name": "stdout",
     "output_type": "stream",
     "text": [
      "Loaded as API: https://vectara-hhem.hf.space ✔\n"
     ]
    }
   ],
   "source": [
    "# Initialize the client and point it to HHEM space\n",
    "\n",
    "hf_token = os.environ['HF_TOKEN']\n",
    "client = Client(\"vectara/HHEM\", hf_token=hf_token)"
   ]
  },
  {
   "cell_type": "markdown",
   "id": "e91b6595-6689-44d6-af14-3eb9b68fc2d4",
   "metadata": {},
   "source": [
    "We can inspect what endpoints are exposed in the client via the `view_api()` call:"
   ]
  },
  {
   "cell_type": "code",
   "execution_count": 3,
   "id": "24c651af-9a52-4274-b607-bd0f8ec41c58",
   "metadata": {},
   "outputs": [
    {
     "name": "stdout",
     "output_type": "stream",
     "text": [
      "Client.predict() Usage Info\n",
      "---------------------------\n",
      "Named API endpoints: 1\n",
      "\n",
      " - predict(sentence1, sentence2, api_name=\"/predict\") -> hhem_score\n",
      "    Parameters:\n",
      "     - [Textbox] sentence1: str (required)  \n",
      "     - [Textbox] sentence2: str (required)  \n",
      "    Returns:\n",
      "     - [Label] hhem_score: Dict(label: str | int | float | None, confidences: List[Dict(label: str | int | float | None, confidence: float | None)] | None) \n",
      "\n"
     ]
    }
   ],
   "source": [
    "client.view_api()"
   ]
  },
  {
   "cell_type": "markdown",
   "id": "0ab43b34-bc5b-444c-a085-390cc73e3bca",
   "metadata": {},
   "source": [
    "We can see that the \"/predict\" endpoint of this space accepts two sentences and return a hallucination evaluation score.\n",
    "\n",
    "Let's try this out for a few examples, to demonstrate the hallucination detection capabilities.\n",
    "When calling HHEM, we use two sentences\n",
    "- The first sentence includes the context - a set of facts to summarize\n",
    "- The second sentence includes the proposed summary\n",
    "\n",
    "HHEM scores the factual consistency of the 2nd sentence against the facts in the 1st sentence and produces a score of 0...1, 1 being most factually consistent and 0 means not at all.\n"
   ]
  },
  {
   "cell_type": "code",
   "execution_count": 4,
   "id": "d11ccf47-86ee-4e2d-b79a-d537d655de74",
   "metadata": {},
   "outputs": [],
   "source": [
    "test_pairs = [\n",
    "    [\n",
    "        \"Goldfish are being caught weighing up to 2kg and koi carp up to 8kg and one metre in length\", \n",
    "        \"Koi carp can be as heavy as 2kg and as long as one meter\"],\n",
    "    [\n",
    "        \"The first vaccine for Ebola was approved by the FDA in 2019 in the US, five years after the initial outbreak in 2014. To produce the vaccine,  scientists had to sequence the DNA of Ebola, then identify possible vaccines, and finally show successful clinical trials.  Scientists say a vaccine for COVID-19 is unlikely to be ready this year, although clinical trials have already started.\", \n",
    "        \"COVID-19 vaccine will be available this year.\"\n",
    "    ], \n",
    "    ['Water is tasteless', 'You can not taste water.'], \n",
    "    ['I am happy.', 'I am pleasant.'],\n",
    "    [\"Mark Wahlberg was a fan of Manny.\", \"Manny was a fan of Mark Wahlberg.\"], \n",
    "    ['I went to the United States.', 'I visited California.'],\n",
    "    ['I visited California.', 'I went to the United States.'],\n",
    "    [\n",
    "        \"`` Hourglass'' is a song by British electronic duo Disclosure . Hourglass is singer-songwriter James Taylor 's fourteenth studio album .\", \n",
    "        'The passage mentions two different \"Hourglass\" entities: one is a song by the British electronic duo Disclosure, and the other is the fourteenth studio album by singer-songwriter James Taylor.'\n",
    "    ],\n",
    "    [\n",
    "        \"Gradio-client is a library from Huggingface. You can use it to make any Huggingface space immediately available for prediction\", \n",
    "        \"Gradio-client is a new library that enables developers to use Huggingface spaces as prediction endpoints\"\n",
    "    ]\n",
    "]"
   ]
  },
  {
   "cell_type": "code",
   "execution_count": 5,
   "id": "b808ea13-6f73-4084-bb43-cd3276042923",
   "metadata": {},
   "outputs": [
    {
     "name": "stdout",
     "output_type": "stream",
     "text": [
      "Sentence 1: Goldfish are being caught weighing up to 2kg and koi carp up to 8kg and one metre in length\n",
      "Sentence 2: Koi carp can be as heavy as 2kg and as long as one meter\n",
      "HHEM score = 0.0053\n",
      "\n",
      "\n",
      "Sentence 1: The first vaccine for Ebola was approved by the FDA in 2019 in the US, five years after the initial outbreak in 2014. To produce the vaccine,  scientists had to sequence the DNA of Ebola, then identify possible vaccines, and finally show successful clinical trials.  Scientists say a vaccine for COVID-19 is unlikely to be ready this year, although clinical trials have already started.\n",
      "Sentence 2: COVID-19 vaccine will be available this year.\n",
      "HHEM score = 0.0003\n",
      "\n",
      "\n",
      "Sentence 1: Water is tasteless\n",
      "Sentence 2: You can not taste water.\n",
      "HHEM score = 0.9364\n",
      "\n",
      "\n",
      "Sentence 1: I am happy.\n",
      "Sentence 2: I am pleasant.\n",
      "HHEM score = 0.5507\n",
      "\n",
      "\n",
      "Sentence 1: Mark Wahlberg was a fan of Manny.\n",
      "Sentence 2: Manny was a fan of Mark Wahlberg.\n",
      "HHEM score = 0.0028\n",
      "\n",
      "\n",
      "Sentence 1: I went to the United States.\n",
      "Sentence 2: I visited California.\n",
      "HHEM score = 0.2687\n",
      "\n",
      "\n",
      "Sentence 1: I visited California.\n",
      "Sentence 2: I went to the United States.\n",
      "HHEM score = 0.9292\n",
      "\n",
      "\n",
      "Sentence 1: `` Hourglass'' is a song by British electronic duo Disclosure . Hourglass is singer-songwriter James Taylor 's fourteenth studio album .\n",
      "Sentence 2: The passage mentions two different \"Hourglass\" entities: one is a song by the British electronic duo Disclosure, and the other is the fourteenth studio album by singer-songwriter James Taylor.\n",
      "HHEM score = 0.9577\n",
      "\n",
      "\n",
      "Sentence 1: Gradio-client is a library from Huggingface. You can use it to make any Huggingface space immediately available for prediction\n",
      "Sentence 2: Gradio-client is a new library that enables developers to use Huggingface spaces as prediction endpoints\n",
      "HHEM score = 0.8858\n",
      "\n",
      "\n"
     ]
    }
   ],
   "source": [
    "for pair in test_pairs:\n",
    "    print(f\"Sentence 1: {pair[0]}\")\n",
    "    print(f\"Sentence 2: {pair[1]}\")\n",
    "    print(f\"HHEM score = {client.predict(pair[0], pair[1])['label']}\")\n",
    "    print(\"\\n\")"
   ]
  },
  {
   "cell_type": "code",
   "execution_count": null,
   "id": "d456c9d8-5978-40e6-bd56-42c6b47635a2",
   "metadata": {},
   "outputs": [],
   "source": []
  }
 ],
 "metadata": {
  "kernelspec": {
   "display_name": "Python 3 (ipykernel)",
   "language": "python",
   "name": "python3"
  },
  "language_info": {
   "codemirror_mode": {
    "name": "ipython",
    "version": 3
   },
   "file_extension": ".py",
   "mimetype": "text/x-python",
   "name": "python",
   "nbconvert_exporter": "python",
   "pygments_lexer": "ipython3",
   "version": "3.10.9"
  }
 },
 "nbformat": 4,
 "nbformat_minor": 5
}
